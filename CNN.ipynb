{
 "cells": [
  {
   "cell_type": "markdown",
   "id": "0cb8d3e1",
   "metadata": {},
   "source": [
    "### Part 1"
   ]
  },
  {
   "cell_type": "markdown",
   "id": "8f52cd7f",
   "metadata": {},
   "source": [
    "Neural network with a single convolutional layer defined below as model"
   ]
  },
  {
   "cell_type": "code",
   "execution_count": 1,
   "id": "90e35415",
   "metadata": {},
   "outputs": [
    {
     "name": "stderr",
     "output_type": "stream",
     "text": [
      "2024-02-01 15:39:19.370247: I tensorflow/core/platform/cpu_feature_guard.cc:182] This TensorFlow binary is optimized to use available CPU instructions in performance-critical operations.\n",
      "To enable the following instructions: AVX2 FMA, in other operations, rebuild TensorFlow with the appropriate compiler flags.\n"
     ]
    }
   ],
   "source": [
    "#Import necessary libraries\n",
    "import tensorflow as tf\n",
    "from tensorflow import keras\n",
    "\n",
    "import matplotlib.pyplot as plt\n",
    "import numpy as np\n",
    "import math\n",
    "\n",
    "import matplotlib.style \n",
    "import matplotlib as mpl "
   ]
  },
  {
   "cell_type": "code",
   "execution_count": 2,
   "id": "08ef6b78",
   "metadata": {},
   "outputs": [],
   "source": [
    "# Load MNIST dataset\n",
    "mnist = keras.datasets.mnist\n",
    "(training_images, training_labels), (testing_images, testing_labels) = mnist.load_data()\n",
    "\n",
    "#defining training and test images\n",
    "training_images = training_images.reshape((60000, 28, 28, 1)).astype('float32') / 255\n",
    "testing_images = testing_images.reshape((10000, 28, 28, 1)).astype('float32') / 255"
   ]
  },
  {
   "cell_type": "code",
   "execution_count": 3,
   "id": "a72c0821",
   "metadata": {},
   "outputs": [
    {
     "name": "stdout",
     "output_type": "stream",
     "text": [
      "Epoch 1/15\n",
      "299/299 [==============================] - 6s 17ms/step - loss: 0.6081 - accuracy: 0.8439\n",
      "Epoch 2/15\n",
      "299/299 [==============================] - 5s 16ms/step - loss: 0.1814 - accuracy: 0.9457\n",
      "Epoch 3/15\n",
      "299/299 [==============================] - 4s 15ms/step - loss: 0.1336 - accuracy: 0.9594\n",
      "Epoch 4/15\n",
      "299/299 [==============================] - 4s 15ms/step - loss: 0.1103 - accuracy: 0.9666\n",
      "Epoch 5/15\n",
      "299/299 [==============================] - 5s 15ms/step - loss: 0.0947 - accuracy: 0.9716\n",
      "Epoch 6/15\n",
      "299/299 [==============================] - 5s 16ms/step - loss: 0.0825 - accuracy: 0.9750\n",
      "Epoch 7/15\n",
      "299/299 [==============================] - 4s 15ms/step - loss: 0.0738 - accuracy: 0.9776\n",
      "Epoch 8/15\n",
      "299/299 [==============================] - 5s 15ms/step - loss: 0.0663 - accuracy: 0.9798\n",
      "Epoch 9/15\n",
      "299/299 [==============================] - 5s 16ms/step - loss: 0.0610 - accuracy: 0.9811\n",
      "Epoch 10/15\n",
      "299/299 [==============================] - 5s 15ms/step - loss: 0.0562 - accuracy: 0.9828\n",
      "Epoch 11/15\n",
      "299/299 [==============================] - 5s 16ms/step - loss: 0.0535 - accuracy: 0.9828\n",
      "Epoch 12/15\n",
      "299/299 [==============================] - 5s 16ms/step - loss: 0.0490 - accuracy: 0.9846\n",
      "Epoch 13/15\n",
      "299/299 [==============================] - 5s 17ms/step - loss: 0.0462 - accuracy: 0.9857\n",
      "Epoch 14/15\n",
      "299/299 [==============================] - 6s 19ms/step - loss: 0.0433 - accuracy: 0.9865\n",
      "Epoch 15/15\n",
      "299/299 [==============================] - 6s 20ms/step - loss: 0.0407 - accuracy: 0.9873\n",
      "313/313 [==============================] - 1s 2ms/step - loss: 0.0464 - accuracy: 0.9849\n",
      "1/1 [==============================] - 0s 79ms/step\n",
      "The predicted label is  4\n",
      "The accuracy of this model is  98.49 %\n",
      "Model: \"sequential\"\n",
      "_________________________________________________________________\n",
      " Layer (type)                Output Shape              Param #   \n",
      "=================================================================\n",
      " conv2d (Conv2D)             (None, 25, 25, 6)         102       \n",
      "                                                                 \n",
      " max_pooling2d (MaxPooling2  (None, 6, 6, 6)           0         \n",
      " D)                                                              \n",
      "                                                                 \n",
      " flatten (Flatten)           (None, 216)               0         \n",
      "                                                                 \n",
      " dense (Dense)               (None, 66)                14322     \n",
      "                                                                 \n",
      " dense_1 (Dense)             (None, 10)                670       \n",
      "                                                                 \n",
      "=================================================================\n",
      "Total params: 15094 (58.96 KB)\n",
      "Trainable params: 15094 (58.96 KB)\n",
      "Non-trainable params: 0 (0.00 Byte)\n",
      "_________________________________________________________________\n"
     ]
    },
    {
     "data": {
      "image/png": "[encoded data removed]",
      "text/plain": [
       "<Figure size 640x480 with 1 Axes>"
      ]
     },
     "metadata": {},
     "output_type": "display_data"
    }
   ],
   "source": [
    "#defining model\n",
    "model = keras.models.Sequential()\n",
    "model.add(keras.layers.Conv2D(6, (4,4), activation='relu', input_shape=(28, 28,1 )))\n",
    "model.add(keras.layers.MaxPooling2D((4, 4)))\n",
    "model.add(keras.layers.Flatten())\n",
    "model.add(keras.layers.Dense(66, activation='relu'))\n",
    "model.add(keras.layers.Dense(10))\n",
    "\n",
    "\n",
    "#compiling model\n",
    "model.compile(optimizer='adam',loss=tf.keras.losses.SparseCategoricalCrossentropy(from_logits=True), metrics=['accuracy'])\n",
    "\n",
    "#training model using training images and corresponding labels\n",
    "history = model.fit(training_images, training_labels,batch_size=201, epochs=15)\n",
    "\n",
    "#evaluate model and determining loss and accuracy\n",
    "loss, accuracy = model.evaluate(testing_images, testing_labels)\n",
    "prob_model=tf.keras.Sequential([model,tf.keras.layers.Softmax()])\n",
    "\n",
    "\n",
    "\n",
    "#random image selecter and resizing\n",
    "random_index = np.random.randint(0, len(testing_images))\n",
    "random_image = testing_images[random_index]\n",
    "random_label = testing_labels[random_index]\n",
    "random_image = np.expand_dims(random_image, axis=-1)\n",
    "random_image = np.expand_dims(random_image, axis=0)\n",
    "\n",
    "\n",
    "\n",
    "# Make a prediction using the trained model\n",
    "predictions = prob_model.predict(random_image)\n",
    "\n",
    "# Get the predicted label (index with the highest probability)\n",
    "predicted_label = np.argmax(predictions)\n",
    "\n",
    "\n",
    "# Display the image\n",
    "plt.imshow(random_image.squeeze(), cmap='gray')\n",
    "\n",
    "print(\"The predicted label is \", predicted_label)\n",
    "print(\"The accuracy of this model is \", round(accuracy*100,2), \"%\")\n",
    "\n",
    "model.summary()"
   ]
  },
  {
   "cell_type": "markdown",
   "id": "f0295247",
   "metadata": {},
   "source": [
    "Neural network with a two convolutional layers and a pooling layer defined below as model2"
   ]
  },
  {
   "cell_type": "code",
   "execution_count": 8,
   "id": "c9b6d0b5",
   "metadata": {},
   "outputs": [
    {
     "name": "stdout",
     "output_type": "stream",
     "text": [
      "Epoch 1/15\n",
      "600/600 [==============================] - 19s 29ms/step - loss: 0.3985 - accuracy: 0.8764\n",
      "Epoch 2/15\n",
      "600/600 [==============================] - 16s 27ms/step - loss: 0.1236 - accuracy: 0.9626\n",
      "Epoch 3/15\n",
      "600/600 [==============================] - 17s 28ms/step - loss: 0.0911 - accuracy: 0.9719\n",
      "Epoch 4/15\n",
      "600/600 [==============================] - 15s 25ms/step - loss: 0.0755 - accuracy: 0.9772\n",
      "Epoch 5/15\n",
      "600/600 [==============================] - 15s 25ms/step - loss: 0.0651 - accuracy: 0.9800\n",
      "Epoch 6/15\n",
      "600/600 [==============================] - 16s 26ms/step - loss: 0.0564 - accuracy: 0.9826\n",
      "Epoch 7/15\n",
      "600/600 [==============================] - 17s 28ms/step - loss: 0.0510 - accuracy: 0.9836\n",
      "Epoch 8/15\n",
      "600/600 [==============================] - 17s 28ms/step - loss: 0.0464 - accuracy: 0.9857\n",
      "Epoch 9/15\n",
      "600/600 [==============================] - 17s 29ms/step - loss: 0.0425 - accuracy: 0.9872\n",
      "Epoch 10/15\n",
      "600/600 [==============================] - 17s 28ms/step - loss: 0.0381 - accuracy: 0.9882\n",
      "Epoch 11/15\n",
      "600/600 [==============================] - 17s 28ms/step - loss: 0.0372 - accuracy: 0.9885\n",
      "Epoch 12/15\n",
      "600/600 [==============================] - 17s 28ms/step - loss: 0.0339 - accuracy: 0.9892\n",
      "Epoch 13/15\n",
      "600/600 [==============================] - 17s 28ms/step - loss: 0.0327 - accuracy: 0.9897\n",
      "Epoch 14/15\n",
      "600/600 [==============================] - 17s 29ms/step - loss: 0.0302 - accuracy: 0.9906\n",
      "Epoch 15/15\n",
      "600/600 [==============================] - 19s 32ms/step - loss: 0.0276 - accuracy: 0.9913\n",
      "313/313 [==============================] - 2s 4ms/step - loss: 0.0467 - accuracy: 0.9857\n",
      "1/1 [==============================] - 0s 90ms/step\n",
      "The predicted label is  1\n",
      "The accuracy of this model is  98.57 % The cost is  0.05\n",
      "Model: \"sequential_5\"\n",
      "_________________________________________________________________\n",
      " Layer (type)                Output Shape              Param #   \n",
      "=================================================================\n",
      " conv2d_4 (Conv2D)           (None, 25, 25, 6)         102       \n",
      "                                                                 \n",
      " conv2d_5 (Conv2D)           (None, 22, 22, 6)         582       \n",
      "                                                                 \n",
      " conv2d_6 (Conv2D)           (None, 19, 19, 6)         582       \n",
      "                                                                 \n",
      " max_pooling2d_2 (MaxPoolin  (None, 4, 4, 6)           0         \n",
      " g2D)                                                            \n",
      "                                                                 \n",
      " flatten_3 (Flatten)         (None, 96)                0         \n",
      "                                                                 \n",
      " dense_8 (Dense)             (None, 85)                8245      \n",
      "                                                                 \n",
      " dense_9 (Dense)             (None, 10)                860       \n",
      "                                                                 \n",
      "=================================================================\n",
      "Total params: 10371 (40.51 KB)\n",
      "Trainable params: 10371 (40.51 KB)\n",
      "Non-trainable params: 0 (0.00 Byte)\n",
      "_________________________________________________________________\n"
     ]
    },
    {
     "data": {
      "image/png": "[encoded data removed]",
      "text/plain": [
       "<Figure size 640x480 with 1 Axes>"
      ]
     },
     "metadata": {},
     "output_type": "display_data"
    }
   ],
   "source": [
    "#model2 with 2 convolution layers and one pooling layer\n",
    "model2 = keras.models.Sequential()\n",
    "model2.add(keras.layers.Conv2D(6, (4,4), activation='relu', input_shape=(28, 28,1 )))\n",
    "model2.add(keras.layers.Conv2D(6, (4,4), activation='relu'))\n",
    "model2.add(keras.layers.Conv2D(6, (4,4), activation='relu'))\n",
    "\n",
    "model2.add(keras.layers.MaxPooling2D((4, 4)))\n",
    "#Flattening array and outputting 10 values\n",
    "model2.add(keras.layers.Flatten())\n",
    "model2.add(keras.layers.Dense(85, activation='relu'))\n",
    "model2.add(keras.layers.Dense(10))\n",
    "\n",
    "#compiling model\n",
    "model2.compile(optimizer='adam',loss=tf.keras.losses.SparseCategoricalCrossentropy(from_logits=True), metrics=['accuracy'])\n",
    "\n",
    "#training model using training images and corresponding labels\n",
    "history = model2.fit(training_images, training_labels,batch_size=100, epochs=15)\n",
    "\n",
    "#evaluate model and determining loss and accuracy\n",
    "loss2, accuracy2 = model2.evaluate(testing_images, testing_labels)\n",
    "\n",
    "\n",
    "#random image selecter and resizing\n",
    "random_index = np.random.randint(0, len(testing_images))\n",
    "random_image = testing_images[random_index]\n",
    "random_label = testing_labels[random_index]\n",
    "random_image = np.expand_dims(random_image, axis=-1)\n",
    "random_image = np.expand_dims(random_image, axis=0)\n",
    "\n",
    "\n",
    "# Make a prediction using the trained model\n",
    "prob_model2=tf.keras.Sequential([model2,tf.keras.layers.Softmax()])\n",
    "predictions = prob_model2.predict(random_image)\n",
    "\n",
    "# Get the predicted label (index with the highest probability)\n",
    "predicted_label = np.argmax(predictions)\n",
    "\n",
    "# Display the image\n",
    "plt.imshow(random_image.squeeze(), cmap='gray')\n",
    "\n",
    "print(\"The predicted label is \", predicted_label)\n",
    "print(\"The accuracy of this model is \", round(accuracy2*100,2), \"%\", \"The cost is \", round(loss2,2))\n",
    "\n",
    "model2.summary()"
   ]
  },
  {
   "cell_type": "markdown",
   "id": "338115b5",
   "metadata": {},
   "source": [
    "### Part 2"
   ]
  },
  {
   "cell_type": "markdown",
   "id": "55ae4783",
   "metadata": {},
   "source": [
    "Network with a bottleneck of 9 neurons"
   ]
  },
  {
   "cell_type": "code",
   "execution_count": 5,
   "id": "8b57b420",
   "metadata": {},
   "outputs": [],
   "source": [
    "def circle_generator(batchsize, x, y):\n",
    "    \"\"\"\n",
    "    Generate random circle images.\n",
    "\n",
    "    Parameters:\n",
    "    - batchsize: Number of images to generate.\n",
    "    - x, y: Meshgrid coordinates.\n",
    "\n",
    "    Returns:\n",
    "    - circle_images: Batch of circle images.\n",
    "    \"\"\"\n",
    "    R = np.random.uniform(size=batchsize)\n",
    "    x0 = np.random.uniform(size=batchsize, low=-1, high=1)\n",
    "    y0 = np.random.uniform(size=batchsize, low=-1, high=1)\n",
    "\n",
    "    # Create binary circle images based on the generated parameters\n",
    "    circle_images = 1.0 * ((x[None, :, :] - x0[:, None, None]) ** 2 + (y[None, :, :] - y0[:, None, None]) ** 2 < R[:, None, None] ** 2)\n",
    "\n",
    "    return circle_images\n",
    "\n",
    "def plot_test_image(model, image_generator, img_size):\n",
    "    \"\"\"\n",
    "    Plot the input and output images for a random test image.\n",
    "\n",
    "    Parameters:\n",
    "    - model: Trained model for image prediction.\n",
    "    - image_generator: Function to generate images.\n",
    "    - img_size: Size of the images (assuming square images).\n",
    "    \"\"\"\n",
    "    # Get a random test image\n",
    "    y_test = get_test_image(image_generator, img_size)\n",
    "\n",
    "    # Create the output image using the trained model\n",
    "    y_test_out = model.predict_on_batch(y_test)\n",
    "\n",
    "    # Plot the input and output images side by side\n",
    "    fig, ax = plt.subplots(1, 2)\n",
    "    ax[0].imshow(y_test[0, :, :], origin='lower')\n",
    "    ax[0].set_title(\"Input\")\n",
    "    ax[1].imshow(y_test_out[0, :, :], origin='lower')\n",
    "    ax[1].set_title(\"Output\")\n",
    "\n",
    "\n",
    "    \n",
    "def get_test_image(image_generator, img_size):\n",
    "    \"\"\"\n",
    "    Generate a test image using the provided image generator function.\n",
    "\n",
    "    Parameters:\n",
    "    - image_generator: Function to generate images.\n",
    "    - img_size: Size of the images (assuming square images).\n",
    "\n",
    "    Returns:\n",
    "    - y_test: Test image array.\n",
    "    \"\"\"\n",
    "    # Generate an array of the numbers 1 to img_size and create a meshgrid from them\n",
    "    pixels = np.linspace(-1, 1, img_size)\n",
    "    x, y = np.meshgrid(pixels, pixels)\n",
    "        \n",
    "    # Create a test image using 1 call to image_generator\n",
    "    y_test = np.zeros([100, img_size, img_size, 1])\n",
    "    y_test[:, :, :, 0] = image_generator(1, x, y)\n",
    "\n",
    "    return y_test\n"
   ]
  },
  {
   "cell_type": "code",
   "execution_count": null,
   "id": "abe09d92",
   "metadata": {},
   "outputs": [],
   "source": []
  },
  {
   "cell_type": "code",
   "execution_count": 6,
   "id": "fdc9e1a5",
   "metadata": {},
   "outputs": [
    {
     "name": "stdout",
     "output_type": "stream",
     "text": [
      "Model: \"sequential_4\"\n",
      "_________________________________________________________________\n",
      " Layer (type)                Output Shape              Param #   \n",
      "=================================================================\n",
      " flatten_2 (Flatten)         (None, 729)               0         \n",
      "                                                                 \n",
      " dense_4 (Dense)             (None, 20)                14600     \n",
      "                                                                 \n",
      " dense_5 (Dense)             (None, 9)                 189       \n",
      "                                                                 \n",
      " dense_6 (Dense)             (None, 20)                200       \n",
      "                                                                 \n",
      " dense_7 (Dense)             (None, 729)               15309     \n",
      "                                                                 \n",
      " reshape (Reshape)           (None, 27, 27)            0         \n",
      "                                                                 \n",
      "=================================================================\n",
      "Total params: 30298 (118.35 KB)\n",
      "Trainable params: 30298 (118.35 KB)\n",
      "Non-trainable params: 0 (0.00 Byte)\n",
      "_________________________________________________________________\n"
     ]
    }
   ],
   "source": [
    "# Now let's define a model to try and learn how to make these images\n",
    "model3 = keras.Sequential()\n",
    "\n",
    "# Flatten layer to transform the 27x27 input images into a 1D array\n",
    "model3.add(keras.layers.Flatten(input_shape=(27, 27)))\n",
    "\n",
    "# First hidden layer with 10 neurons and ReLU activation\n",
    "model3.add(keras.layers.Dense(20, activation=\"relu\"))\n",
    "\n",
    "# Second hidden layer (bottleneck) with 9 neurons and ReLU activation\n",
    "model3.add(keras.layers.Dense(9, activation=\"relu\"))\n",
    "\n",
    "# Third hidden layer with 10 neurons and ReLU activation\n",
    "model3.add(keras.layers.Dense(20, activation=\"relu\"))\n",
    "\n",
    "# Dense layer with 27*27 neurons and ReLU activation\n",
    "model3.add(keras.layers.Dense(27 * 27, activation='relu'))\n",
    "\n",
    "# Reshape layer to transform the 1D array back to a 2D image (27x27)\n",
    "model3.add(keras.layers.Reshape((27, 27)))\n",
    "\n",
    "# Compile the model with mean squared error loss and the Adam optimizer\n",
    "model3.compile(loss='mean_squared_error', optimizer='adam')\n",
    "\n",
    "# Display the model summary\n",
    "model3.summary()\n",
    "\n",
    "\n",
    "def generate_and_train(model, image_generator, img_size, batchsize, steps):\n",
    "    \"\"\"\n",
    "    Generate training data and train the provided model.\n",
    "\n",
    "    Parameters:\n",
    "    - model: The Keras model to be trained.\n",
    "    - image_generator: Function to generate images for training.\n",
    "    - img_size: Size of the images (assuming square images).\n",
    "    - batchsize: Number of samples per batch.\n",
    "    - steps: Number of training steps.\n",
    "\n",
    "    Returns:\n",
    "    - cost: Array containing costs during training.\n",
    "    - y_target: Target data used for training.\n",
    "    \"\"\"\n",
    "    # Generate an array of the numbers 1 to img_size and create a meshgrid from them\n",
    "    pixels = np.linspace(-1, 1, img_size)\n",
    "    x, y = np.meshgrid(pixels, pixels)\n",
    "\n",
    "    # Create empty arrays for the input images, target images, and cost\n",
    "    y_in = np.zeros([batchsize, img_size, img_size, 1])\n",
    "    y_target = np.zeros([batchsize, img_size, img_size, 1])\n",
    "    cost = np.zeros(steps)\n",
    "\n",
    "    # Loop through the training steps\n",
    "    for k in range(steps):\n",
    "        # Produce samples using the provided image generator\n",
    "        y_in[:, :, :, 0] = image_generator(batchsize, x, y)\n",
    "        y_target = np.copy(y_in)  # Autoencoder wants to reproduce its input!\n",
    "\n",
    "        # Perform one training step on this batch of samples\n",
    "        cost[k] = model.train_on_batch(y_in, y_target)\n",
    "\n",
    "    return cost, y_target"
   ]
  },
  {
   "cell_type": "code",
   "execution_count": 14,
   "id": "ec166d62",
   "metadata": {},
   "outputs": [
    {
     "name": "stdout",
     "output_type": "stream",
     "text": [
      "The cost is 0.055178407579660416\n"
     ]
    },
    {
     "data": {
      "image/png": "[encoded data removed]",
      "text/plain": [
       "<Figure size 640x480 with 2 Axes>"
      ]
     },
     "metadata": {},
     "output_type": "display_data"
    }
   ],
   "source": [
    "# Training parameters\n",
    "img_size = 27  # Size of the images (assuming square images)\n",
    "batch_size = 500  # Number of samples per batch\n",
    "steps = 1000  # Number of training steps\n",
    "\n",
    "# Train the model using the provided function\n",
    "cost_3, y_target_3 = generate_and_train(model3, circle_generator, img_size, batch_size, steps)\n",
    "\n",
    "\n",
    "# Print the final cost rounded to two decimal places\n",
    "print(\"The cost is\",cost_3[-1])\n",
    "\n",
    "# Plot a test image generated by the trained model\n",
    "plot_test_image(model3, circle_generator, 27)"
   ]
  },
  {
   "cell_type": "markdown",
   "id": "40c35678",
   "metadata": {},
   "source": [
    "Network with a bottleneck of 3 neurons"
   ]
  },
  {
   "cell_type": "code",
   "execution_count": 21,
   "id": "421ba1e5",
   "metadata": {},
   "outputs": [
    {
     "name": "stdout",
     "output_type": "stream",
     "text": [
      "Model: \"sequential_10\"\n",
      "_________________________________________________________________\n",
      " Layer (type)                Output Shape              Param #   \n",
      "=================================================================\n",
      " flatten_7 (Flatten)         (None, 729)               0         \n",
      "                                                                 \n",
      " dense_25 (Dense)            (None, 12)                8760      \n",
      "                                                                 \n",
      " dense_26 (Dense)            (None, 12)                156       \n",
      "                                                                 \n",
      " dense_27 (Dense)            (None, 3)                 39        \n",
      "                                                                 \n",
      " dense_28 (Dense)            (None, 12)                48        \n",
      "                                                                 \n",
      " dense_29 (Dense)            (None, 729)               9477      \n",
      "                                                                 \n",
      " reshape_4 (Reshape)         (None, 27, 27)            0         \n",
      "                                                                 \n",
      "=================================================================\n",
      "Total params: 18480 (72.19 KB)\n",
      "Trainable params: 18480 (72.19 KB)\n",
      "Non-trainable params: 0 (0.00 Byte)\n",
      "_________________________________________________________________\n"
     ]
    }
   ],
   "source": [
    "\n",
    "model4 = keras.Sequential()\n",
    "\n",
    "# Flatten layer to transform the 27x27 input images into a 1D array\n",
    "model4.add(keras.layers.Flatten(input_shape=(27, 27)))\n",
    "\n",
    "# First hidden layer with 10 neurons and ReLU activation\n",
    "model4.add(keras.layers.Dense(12, activation=\"relu\"))\n",
    "model4.add(keras.layers.Dense(12, activation=\"relu\"))\n",
    "\n",
    "# Second hidden layer (bottleneck) with 9 neurons and ReLU activation\n",
    "model4.add(keras.layers.Dense(3, activation=\"relu\"))\n",
    "\n",
    "# Third hidden layer with 10 neurons and ReLU activation\n",
    "model4.add(keras.layers.Dense(12, activation=\"relu\"))\n",
    "\n",
    "# Dense layer with 27*27 neurons and ReLU activation\n",
    "model4.add(keras.layers.Dense(27 * 27, activation='relu'))\n",
    "\n",
    "# Reshape layer to transform the 1D array back to a 2D image (27x27)\n",
    "model4.add(keras.layers.Reshape((27, 27)))\n",
    "\n",
    "# Compile the model with mean squared error loss and the Adam optimizer\n",
    "model4.compile(loss='mean_squared_error', optimizer='adam')\n",
    "\n",
    "# Display the model summary\n",
    "model4.summary()"
   ]
  },
  {
   "cell_type": "code",
   "execution_count": 22,
   "id": "dd22db74",
   "metadata": {},
   "outputs": [
    {
     "name": "stdout",
     "output_type": "stream",
     "text": [
      "The cost is 0.05\n",
      "\n"
     ]
    },
    {
     "data": {
      "image/png": "[encoded data removed]",
      "text/plain": [
       "<Figure size 640x480 with 2 Axes>"
      ]
     },
     "metadata": {},
     "output_type": "display_data"
    }
   ],
   "source": [
    "# Training parameters\n",
    "img_size = 27  # Size of the images (assuming square images)\n",
    "batch_size = 300  # Number of samples per batch\n",
    "steps = 1000  # Number of training steps\n",
    "\n",
    "# Train the model using the provided function\n",
    "cost_4, y_target_4 = generate_and_train(model4, circle_generator, img_size, batch_size, steps)\n",
    "\n",
    "# Print the final cost rounded to two decimal places\n",
    "print(\"The cost is\",round(cost_4[-1], 2))\n",
    "print()\n",
    "\n",
    "# Plot a test image generated by the trained model\n",
    "plot_test_image(model3, circle_generator, 27)"
   ]
  },
  {
   "cell_type": "markdown",
   "id": "ba066fd6",
   "metadata": {},
   "source": [
    "My network choices reflect the relitivly high cost. The number parameters is very low and thus optimising this would result in a lower cost. The larger bottleneck performs slightly better and this is expected due to less loss of quality.\n",
    "\n",
    "\n",
    "\n",
    "Bottlenecking in autoencoder models involves reducing the dimensionality of the input data to a lower-dimensional representation, a process observable at the bottleneck layer. The choice of bottleneck size plays a critical role in balancing model complexity and performance trade-offs.\n",
    "\n",
    "Opting for higher bottleneck sizes enables the model to capture intricate features and details from the input data, resulting in a higher-dimensional representation that facilitates better reconstruction of the original input. This leads to lower reconstruction error and enhanced resolution in reconstructed images. However, larger bottleneck sizes increase model complexity and the number of trainable parameters, translating to longer training times, elevated risk of overfitting, and higher computational resource demands.\n",
    "\n",
    "In our study, we evaluated performance in terms of loss, with a lower loss indicating better replication of the original data by the autoencoder function when employing a higher bottleneck value.\n",
    "\n",
    "Conversely, choosing lower bottleneck levels yields a more condensed and straightforward encoding of the input data by diminishing the dimensionality of the input representation. While smaller bottleneck sizes may expedite training and result in less complex models, they may also introduce information loss and compromise reconstruction quality by failing to capture crucial aspects of the input data. Moreover, bottlenecking at lower levels may impede the model's ability to accurately represent intricate patterns and structures in the data.\n",
    "\n",
    "In conclusion, there exists a trade-off between model complexity and performance when determining the bottleneck size. Lower bottleneck sizes offer simplicity and efficiency but may sacrifice reconstruction accuracy and information retention. On the other hand, higher bottleneck sizes deliver superior reconstruction quality at the expense of increased complexity. Experimentation is often necessary to strike the right balance, considering the specific requirements of the task, computational limitations, and performance considerations in order to identify the optimal bottleneck size.\n",
    "\n",
    "\n",
    "\n",
    "\n"
   ]
  },
  {
   "cell_type": "code",
   "execution_count": null,
   "id": "325ac7f3",
   "metadata": {},
   "outputs": [],
   "source": []
  }
 ],
 "metadata": {
  "kernelspec": {
   "display_name": "Python 3 (ipykernel)",
   "language": "python",
   "name": "python3"
  },
  "language_info": {
   "codemirror_mode": {
    "name": "ipython",
    "version": 3
   },
   "file_extension": ".py",
   "mimetype": "text/x-python",
   "name": "python",
   "nbconvert_exporter": "python",
   "pygments_lexer": "ipython3",
   "version": "3.11.5"
  }
 },
 "nbformat": 4,
 "nbformat_minor": 5
}
